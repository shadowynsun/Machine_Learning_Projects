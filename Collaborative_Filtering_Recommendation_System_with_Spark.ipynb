{
  "nbformat": 4,
  "nbformat_minor": 0,
  "metadata": {
    "colab": {
      "name": "Collaborative Filtering  Recommendation System with Spark.ipynb",
      "provenance": [],
      "collapsed_sections": [
        "sBD0yaToa1H8",
        "7oWz67k3j6sI",
        "_sIAzayFkIyC"
      ]
    },
    "kernelspec": {
      "name": "python3",
      "display_name": "Python 3"
    }
  },
  "cells": [
    {
      "cell_type": "markdown",
      "metadata": {
        "id": "FXjleznnJbh0"
      },
      "source": [
        "## **Abstract**\n",
        "In this project, we use an Alternating Lease Squares (ALS) algorithm with Spark APIs to predict the rating for movies. "
      ]
    },
    {
      "cell_type": "markdown",
      "metadata": {
        "id": "sBD0yaToa1H8"
      },
      "source": [
        "### Spark Setup "
      ]
    },
    {
      "cell_type": "code",
      "metadata": {
        "id": "_tom4uTYxDfd"
      },
      "source": [
        "!apt-get update\n",
        "!apt-get install openjdk-8-jdk-headless -qq > /dev/null\n",
        "!wget -q http://apache.forsale.plus/spark/spark-3.0.2/spark-3.0.2-bin-hadoop2.7.tgz\n",
        "!ls\n",
        "!tar xf spark-3.0.2-bin-hadoop2.7.tgz\n",
        "!pip install -q findspark\n",
        "!pip install py4j\n",
        "\n",
        "!export JAVA_HOME=$(/usr/lib/jvm/java-8-openjdk-amd64 -v 1.8)\n",
        "! echo $JAVA_HOME\n"
      ],
      "execution_count": null,
      "outputs": []
    },
    {
      "cell_type": "code",
      "metadata": {
        "id": "VwUpzu31n3Rs"
      },
      "source": [
        "!wget -q http://apache.mirrors.pair.com/spark/spark-3.0.1/spark-3.0.1-bin-hadoop2.7.tgz\n"
      ],
      "execution_count": 2,
      "outputs": []
    },
    {
      "cell_type": "code",
      "metadata": {
        "id": "NWZILV2Vpht9"
      },
      "source": [
        "import os\n",
        "os.environ[\"JAVA_HOME\"] = \"/usr/lib/jvm/java-8-openjdk-amd64\"\n",
        "os.environ[\"SPARK_HOME\"] = \"/content/spark-3.0.2-bin-hadoop2.7\"\n",
        "\n",
        "import findspark\n",
        "findspark.init(\"spark-3.0.2-bin-hadoop2.7\")# SPARK_HOME\n",
        "\n",
        "from pyspark.sql import SparkSession\n",
        "spark = SparkSession.builder.master(\"local[*]\").getOrCreate()\n",
        "\n",
        "from pyspark.sql.types import *\n",
        "from pyspark.sql.functions import col, mean, udf, lit, current_timestamp, unix_timestamp, array_contains"
      ],
      "execution_count": 3,
      "outputs": []
    },
    {
      "cell_type": "code",
      "metadata": {
        "id": "jKTeRLPiqx_W",
        "colab": {
          "base_uri": "https://localhost:8080/"
        },
        "outputId": "1166cf69-cee4-43f2-863b-855fd34a9ff8"
      },
      "source": [
        "!ls"
      ],
      "execution_count": 4,
      "outputs": [
        {
          "output_type": "stream",
          "text": [
            "sample_data  spark-3.0.2-bin-hadoop2.7\tspark-3.0.2-bin-hadoop2.7.tgz\n"
          ],
          "name": "stdout"
        }
      ]
    },
    {
      "cell_type": "code",
      "metadata": {
        "id": "EYh_tv1ErseU",
        "colab": {
          "base_uri": "https://localhost:8080/",
          "height": 35
        },
        "outputId": "42562183-a798-45ed-de0e-5456b5f3f376"
      },
      "source": [
        "spark.version"
      ],
      "execution_count": 5,
      "outputs": [
        {
          "output_type": "execute_result",
          "data": {
            "application/vnd.google.colaboratory.intrinsic+json": {
              "type": "string"
            },
            "text/plain": [
              "'3.0.2'"
            ]
          },
          "metadata": {
            "tags": []
          },
          "execution_count": 5
        }
      ]
    },
    {
      "cell_type": "code",
      "metadata": {
        "id": "qaYSf_aW-Lfa"
      },
      "source": [
        "import numpy as np\n",
        "import pandas as pd\n",
        "import seaborn as sns\n",
        "import matplotlib.pyplot as plt\n",
        "import math\n",
        "%matplotlib inline\n",
        "import re"
      ],
      "execution_count": 6,
      "outputs": []
    },
    {
      "cell_type": "markdown",
      "metadata": {
        "id": "7oWz67k3j6sI"
      },
      "source": [
        "## **Part 0: Data ETL**"
      ]
    },
    {
      "cell_type": "markdown",
      "metadata": {
        "id": "l26LWpKxmLW_"
      },
      "source": [
        "* This notebook uses the \"small\" version of the latest MovieLens movie rating dataset, containing about 100,000 ratings, 9,000 movies and 800 users. \\\\\n",
        "* The latest version of the data can be downloaded at https://grouplens.org/datasets/movielens/latest/\n",
        "\n",
        "\n"
      ]
    },
    {
      "cell_type": "code",
      "metadata": {
        "id": "CbsoaAHha_GN",
        "colab": {
          "resources": {
            "http://localhost:8080/nbextensions/google.colab/files.js": {
              "data": "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",
              "ok": true,
              "headers": [
                [
                  "content-type",
                  "application/javascript"
                ]
              ],
              "status": 200,
              "status_text": ""
            }
          },
          "base_uri": "https://localhost:8080/",
          "height": 242
        },
        "outputId": "e80b3c9c-52cf-4756-8960-25bc69e6d488"
      },
      "source": [
        "from google.colab import files\n",
        "\n",
        "uploaded = files.upload()\n",
        "\n",
        "for fn in uploaded.keys():\n",
        "  print('User uploaded file \"{name}\" with length {length} bytes'.format(\n",
        "      name=fn, length=len(uploaded[fn])))"
      ],
      "execution_count": 7,
      "outputs": [
        {
          "output_type": "display_data",
          "data": {
            "text/html": [
              "\n",
              "     <input type=\"file\" id=\"files-9ff2d24d-e2c4-445f-b033-073e6ac81104\" name=\"files[]\" multiple disabled\n",
              "        style=\"border:none\" />\n",
              "     <output id=\"result-9ff2d24d-e2c4-445f-b033-073e6ac81104\">\n",
              "      Upload widget is only available when the cell has been executed in the\n",
              "      current browser session. Please rerun this cell to enable.\n",
              "      </output>\n",
              "      <script src=\"/nbextensions/google.colab/files.js\"></script> "
            ],
            "text/plain": [
              "<IPython.core.display.HTML object>"
            ]
          },
          "metadata": {
            "tags": []
          }
        },
        {
          "output_type": "stream",
          "text": [
            "Saving links.csv to links.csv\n",
            "Saving movies.csv to movies.csv\n",
            "Saving ratings.csv to ratings.csv\n",
            "Saving tags.csv to tags.csv\n",
            "User uploaded file \"links.csv\" with length 197979 bytes\n",
            "User uploaded file \"movies.csv\" with length 494431 bytes\n",
            "User uploaded file \"ratings.csv\" with length 2483723 bytes\n",
            "User uploaded file \"tags.csv\" with length 118660 bytes\n"
          ],
          "name": "stdout"
        }
      ]
    },
    {
      "cell_type": "code",
      "metadata": {
        "id": "vbKHK_FS_m8k"
      },
      "source": [
        "movies_df = spark.read.load(\"movies.csv\",format='csv', header=True)\n",
        "ratings_df = spark.read.load(\"ratings.csv\", format='csv', header = True)\n",
        "links_df = spark.read.load(\"links.csv\", format='csv', header = True)\n",
        "tags_df = spark.read.load(\"tags.csv\", format='csv', header = True)"
      ],
      "execution_count": 8,
      "outputs": []
    },
    {
      "cell_type": "code",
      "metadata": {
        "colab": {
          "base_uri": "https://localhost:8080/"
        },
        "id": "V_V0jud0rm_O",
        "outputId": "2e00e72e-1f67-466e-c3a1-cd9590fceb3e"
      },
      "source": [
        "ratings_df.show(5)"
      ],
      "execution_count": 9,
      "outputs": [
        {
          "output_type": "stream",
          "text": [
            "+------+-------+------+---------+\n",
            "|userId|movieId|rating|timestamp|\n",
            "+------+-------+------+---------+\n",
            "|     1|      1|   4.0|964982703|\n",
            "|     1|      3|   4.0|964981247|\n",
            "|     1|      6|   4.0|964982224|\n",
            "|     1|     47|   5.0|964983815|\n",
            "|     1|     50|   5.0|964982931|\n",
            "+------+-------+------+---------+\n",
            "only showing top 5 rows\n",
            "\n"
          ],
          "name": "stdout"
        }
      ]
    },
    {
      "cell_type": "code",
      "metadata": {
        "colab": {
          "base_uri": "https://localhost:8080/"
        },
        "id": "Hmstfs2C_8ef",
        "outputId": "932ee46b-f285-4f13-eba2-ef6fd646ea75"
      },
      "source": [
        "movies_df.show(5)"
      ],
      "execution_count": 10,
      "outputs": [
        {
          "output_type": "stream",
          "text": [
            "+-------+--------------------+--------------------+\n",
            "|movieId|               title|              genres|\n",
            "+-------+--------------------+--------------------+\n",
            "|      1|    Toy Story (1995)|Adventure|Animati...|\n",
            "|      2|      Jumanji (1995)|Adventure|Childre...|\n",
            "|      3|Grumpier Old Men ...|      Comedy|Romance|\n",
            "|      4|Waiting to Exhale...|Comedy|Drama|Romance|\n",
            "|      5|Father of the Bri...|              Comedy|\n",
            "+-------+--------------------+--------------------+\n",
            "only showing top 5 rows\n",
            "\n"
          ],
          "name": "stdout"
        }
      ]
    },
    {
      "cell_type": "code",
      "metadata": {
        "colab": {
          "base_uri": "https://localhost:8080/"
        },
        "id": "JYZiEM-D27sl",
        "outputId": "d011ce27-db2b-4819-b19e-1e383bef77bf"
      },
      "source": [
        "links_df.show(5)"
      ],
      "execution_count": 11,
      "outputs": [
        {
          "output_type": "stream",
          "text": [
            "+-------+-------+------+\n",
            "|movieId| imdbId|tmdbId|\n",
            "+-------+-------+------+\n",
            "|      1|0114709|   862|\n",
            "|      2|0113497|  8844|\n",
            "|      3|0113228| 15602|\n",
            "|      4|0114885| 31357|\n",
            "|      5|0113041| 11862|\n",
            "+-------+-------+------+\n",
            "only showing top 5 rows\n",
            "\n"
          ],
          "name": "stdout"
        }
      ]
    },
    {
      "cell_type": "code",
      "metadata": {
        "colab": {
          "base_uri": "https://localhost:8080/"
        },
        "id": "DwcBZpfy3BLz",
        "outputId": "bf1339fc-f63a-4768-9fb2-cf6487e98217"
      },
      "source": [
        "tags_df.show(5)"
      ],
      "execution_count": 12,
      "outputs": [
        {
          "output_type": "stream",
          "text": [
            "+------+-------+---------------+----------+\n",
            "|userId|movieId|            tag| timestamp|\n",
            "+------+-------+---------------+----------+\n",
            "|     2|  60756|          funny|1445714994|\n",
            "|     2|  60756|Highly quotable|1445714996|\n",
            "|     2|  60756|   will ferrell|1445714992|\n",
            "|     2|  89774|   Boxing story|1445715207|\n",
            "|     2|  89774|            MMA|1445715200|\n",
            "+------+-------+---------------+----------+\n",
            "only showing top 5 rows\n",
            "\n"
          ],
          "name": "stdout"
        }
      ]
    },
    {
      "cell_type": "code",
      "metadata": {
        "colab": {
          "base_uri": "https://localhost:8080/"
        },
        "id": "KG3O7YyM3KxG",
        "outputId": "e9ebd0dd-ea77-4594-cbd8-e78811a4d4dd"
      },
      "source": [
        "tmp1 = ratings_df.groupBy('UserId').count().toPandas()['count'].min()\n",
        "tmp2 = ratings_df.groupBy('movieId').count().toPandas()['count'].min()\n",
        "print('For the users that rated movies and the movies that were rated:')\n",
        "print('Minimum number of ratings per user is {}'.format(tmp1))\n",
        "print('Minimum number of ratings per movie is {}'.format(tmp2))"
      ],
      "execution_count": 13,
      "outputs": [
        {
          "output_type": "stream",
          "text": [
            "For the users that rated movies and the movies that were rated:\n",
            "Minimum number of ratings per user is 20\n",
            "Minimum number of ratings per movie is 1\n"
          ],
          "name": "stdout"
        }
      ]
    },
    {
      "cell_type": "code",
      "metadata": {
        "colab": {
          "base_uri": "https://localhost:8080/"
        },
        "id": "61PkP8r-6xvt",
        "outputId": "4b51cc0a-81ea-4d67-858f-489279f59d93"
      },
      "source": [
        "temp1 = sum(ratings_df.groupBy('movieId').count().toPandas()['count'] == 1)\n",
        "temp2 = ratings_df.select('movieId').distinct().count()\n",
        "print('{} out of {} movies are rated by only one user'.format(temp1,temp2))"
      ],
      "execution_count": 14,
      "outputs": [
        {
          "output_type": "stream",
          "text": [
            "3446 out of 9724 movies are rated by only one user\n"
          ],
          "name": "stdout"
        }
      ]
    },
    {
      "cell_type": "markdown",
      "metadata": {
        "id": "_sIAzayFkIyC"
      },
      "source": [
        "## **Part 1: Spark SQL and OLAP**\n"
      ]
    },
    {
      "cell_type": "code",
      "metadata": {
        "id": "KQf1Gz_TGTSC"
      },
      "source": [
        "movies_df.registerTempTable(\"movies\")\n",
        "ratings_df.registerTempTable(\"ratings\")\n",
        "links_df.registerTempTable(\"links\")\n",
        "tags_df.registerTempTable(\"tags\")"
      ],
      "execution_count": 15,
      "outputs": []
    },
    {
      "cell_type": "markdown",
      "metadata": {
        "id": "O_O_2A66GSJC"
      },
      "source": [
        "### Q1: Number of Movies"
      ]
    },
    {
      "cell_type": "code",
      "metadata": {
        "colab": {
          "base_uri": "https://localhost:8080/"
        },
        "id": "Kvx5B8GKGIJW",
        "outputId": "22ba2399-586e-4a5e-e00a-f0baf86cc38c"
      },
      "source": [
        "movies_df.select('movieID').distinct().count()"
      ],
      "execution_count": 16,
      "outputs": [
        {
          "output_type": "execute_result",
          "data": {
            "text/plain": [
              "9742"
            ]
          },
          "metadata": {
            "tags": []
          },
          "execution_count": 16
        }
      ]
    },
    {
      "cell_type": "markdown",
      "metadata": {
        "id": "9UnzG6pMJIhw"
      },
      "source": [
        "### Q2: Number of Users\n"
      ]
    },
    {
      "cell_type": "code",
      "metadata": {
        "id": "5hFs4j3mhOWI",
        "colab": {
          "base_uri": "https://localhost:8080/"
        },
        "outputId": "50db873f-2d36-47b8-ec35-796527ea607c"
      },
      "source": [
        "spark.sql(\"select count(distinct userId) as Num_of_Users from ratings\").show()"
      ],
      "execution_count": 17,
      "outputs": [
        {
          "output_type": "stream",
          "text": [
            "+------------+\n",
            "|Num_of_Users|\n",
            "+------------+\n",
            "|         610|\n",
            "+------------+\n",
            "\n"
          ],
          "name": "stdout"
        }
      ]
    },
    {
      "cell_type": "markdown",
      "metadata": {
        "id": "5zvwelqhKSVx"
      },
      "source": [
        "### Q3: How many movies are rated by users? List movies not rated before"
      ]
    },
    {
      "cell_type": "code",
      "metadata": {
        "id": "ufb0wMkRGvVD",
        "colab": {
          "base_uri": "https://localhost:8080/"
        },
        "outputId": "d6741b15-ec50-454d-c5bd-b29c5d024319"
      },
      "source": [
        "spark.sql(\"select count(distinct movieId) as Num_of_Rated_Movies from ratings\").show()"
      ],
      "execution_count": 18,
      "outputs": [
        {
          "output_type": "stream",
          "text": [
            "+-------------------+\n",
            "|Num_of_Rated_Movies|\n",
            "+-------------------+\n",
            "|               9724|\n",
            "+-------------------+\n",
            "\n"
          ],
          "name": "stdout"
        }
      ]
    },
    {
      "cell_type": "code",
      "metadata": {
        "id": "0GbHKFqvhWzi",
        "colab": {
          "base_uri": "https://localhost:8080/"
        },
        "outputId": "c3d0385c-18d9-4dbc-8abf-2c802caa27a2"
      },
      "source": [
        "# Movies not rated before\n",
        "spark.sql(\"select movieId, title from movies where movieId not in (select movieId from ratings)\").show()"
      ],
      "execution_count": 19,
      "outputs": [
        {
          "output_type": "stream",
          "text": [
            "+-------+--------------------+\n",
            "|movieId|               title|\n",
            "+-------+--------------------+\n",
            "|   1076|Innocents, The (1...|\n",
            "|   2939|      Niagara (1953)|\n",
            "|   3338|For All Mankind (...|\n",
            "|   3456|Color of Paradise...|\n",
            "|   4194|I Know Where I'm ...|\n",
            "|   5721|  Chosen, The (1981)|\n",
            "|   6668|Road Home, The (W...|\n",
            "|   6849|      Scrooge (1970)|\n",
            "|   7020|        Proof (1991)|\n",
            "|   7792|Parallax View, Th...|\n",
            "|   8765|This Gun for Hire...|\n",
            "|  25855|Roaring Twenties,...|\n",
            "|  26085|Mutiny on the Bou...|\n",
            "|  30892|In the Realms of ...|\n",
            "|  32160|Twentieth Century...|\n",
            "|  32371|Call Northside 77...|\n",
            "|  34482|Browning Version,...|\n",
            "|  85565|  Chalet Girl (2011)|\n",
            "+-------+--------------------+\n",
            "\n"
          ],
          "name": "stdout"
        }
      ]
    },
    {
      "cell_type": "markdown",
      "metadata": {
        "id": "UtxZPrAuTGqd"
      },
      "source": [
        "### Q4: List Movie Genres"
      ]
    },
    {
      "cell_type": "code",
      "metadata": {
        "colab": {
          "base_uri": "https://localhost:8080/"
        },
        "id": "1z3IF-b7TGLF",
        "outputId": "c3137948-05f5-41ce-d328-41066d16526a"
      },
      "source": [
        "spark.sql(\"select distinct explode(split (genres, '[|]')) as genres from movies order by 1\").show()"
      ],
      "execution_count": 20,
      "outputs": [
        {
          "output_type": "stream",
          "text": [
            "+------------------+\n",
            "|            genres|\n",
            "+------------------+\n",
            "|(no genres listed)|\n",
            "|            Action|\n",
            "|         Adventure|\n",
            "|         Animation|\n",
            "|          Children|\n",
            "|            Comedy|\n",
            "|             Crime|\n",
            "|       Documentary|\n",
            "|             Drama|\n",
            "|           Fantasy|\n",
            "|         Film-Noir|\n",
            "|            Horror|\n",
            "|              IMAX|\n",
            "|           Musical|\n",
            "|           Mystery|\n",
            "|           Romance|\n",
            "|            Sci-Fi|\n",
            "|          Thriller|\n",
            "|               War|\n",
            "|           Western|\n",
            "+------------------+\n",
            "\n"
          ],
          "name": "stdout"
        }
      ]
    },
    {
      "cell_type": "code",
      "metadata": {
        "colab": {
          "base_uri": "https://localhost:8080/"
        },
        "id": "FlCfTG8qbtp8",
        "outputId": "9ba90796-571c-4e36-875d-23bb871c04f1"
      },
      "source": [
        "spark.sql(\"select movieId, title, explode(split (genres, '[|]')) as genres from movies\").show()"
      ],
      "execution_count": 21,
      "outputs": [
        {
          "output_type": "stream",
          "text": [
            "+-------+--------------------+---------+\n",
            "|movieId|               title|   genres|\n",
            "+-------+--------------------+---------+\n",
            "|      1|    Toy Story (1995)|Adventure|\n",
            "|      1|    Toy Story (1995)|Animation|\n",
            "|      1|    Toy Story (1995)| Children|\n",
            "|      1|    Toy Story (1995)|   Comedy|\n",
            "|      1|    Toy Story (1995)|  Fantasy|\n",
            "|      2|      Jumanji (1995)|Adventure|\n",
            "|      2|      Jumanji (1995)| Children|\n",
            "|      2|      Jumanji (1995)|  Fantasy|\n",
            "|      3|Grumpier Old Men ...|   Comedy|\n",
            "|      3|Grumpier Old Men ...|  Romance|\n",
            "|      4|Waiting to Exhale...|   Comedy|\n",
            "|      4|Waiting to Exhale...|    Drama|\n",
            "|      4|Waiting to Exhale...|  Romance|\n",
            "|      5|Father of the Bri...|   Comedy|\n",
            "|      6|         Heat (1995)|   Action|\n",
            "|      6|         Heat (1995)|    Crime|\n",
            "|      6|         Heat (1995)| Thriller|\n",
            "|      7|      Sabrina (1995)|   Comedy|\n",
            "|      7|      Sabrina (1995)|  Romance|\n",
            "|      8| Tom and Huck (1995)|Adventure|\n",
            "+-------+--------------------+---------+\n",
            "only showing top 20 rows\n",
            "\n"
          ],
          "name": "stdout"
        }
      ]
    },
    {
      "cell_type": "markdown",
      "metadata": {
        "id": "xdnCghqeaynE"
      },
      "source": [
        "### Q5: Movies for each genre"
      ]
    },
    {
      "cell_type": "code",
      "metadata": {
        "colab": {
          "base_uri": "https://localhost:8080/"
        },
        "id": "xKV8edmaa5RI",
        "outputId": "c6cb4fd1-1ebf-4a74-dccf-d987df7b2557"
      },
      "source": [
        "#Number of Movies for each genre\n",
        "spark.sql(\n",
        "    '''select genres, count(movieId) as Num_of_Movies from \n",
        "    (select explode (split(genres, '[|]')) as genres, movieId from movies)\n",
        "    group by genres\n",
        "    order by Num_of_Movies desc\n",
        "    ''').show()"
      ],
      "execution_count": 22,
      "outputs": [
        {
          "output_type": "stream",
          "text": [
            "+------------------+-------------+\n",
            "|            genres|Num_of_Movies|\n",
            "+------------------+-------------+\n",
            "|             Drama|         4361|\n",
            "|            Comedy|         3756|\n",
            "|          Thriller|         1894|\n",
            "|            Action|         1828|\n",
            "|           Romance|         1596|\n",
            "|         Adventure|         1263|\n",
            "|             Crime|         1199|\n",
            "|            Sci-Fi|          980|\n",
            "|            Horror|          978|\n",
            "|           Fantasy|          779|\n",
            "|          Children|          664|\n",
            "|         Animation|          611|\n",
            "|           Mystery|          573|\n",
            "|       Documentary|          440|\n",
            "|               War|          382|\n",
            "|           Musical|          334|\n",
            "|           Western|          167|\n",
            "|              IMAX|          158|\n",
            "|         Film-Noir|           87|\n",
            "|(no genres listed)|           34|\n",
            "+------------------+-------------+\n",
            "\n"
          ],
          "name": "stdout"
        }
      ]
    },
    {
      "cell_type": "code",
      "metadata": {
        "colab": {
          "base_uri": "https://localhost:8080/"
        },
        "id": "kb6ER9HUfAJh",
        "outputId": "53d16b2d-24ae-4a1f-f131-b7dad68c177e"
      },
      "source": [
        "# List of movies for each genre\n",
        "spark.sql(\n",
        "  '''select genres, concat_ws(',',collect_set(title)) as list_of_movies from\n",
        "  (select explode(split(genres,'[|]')) as genres, title From movies) group By 1''').show()\n"
      ],
      "execution_count": 23,
      "outputs": [
        {
          "output_type": "stream",
          "text": [
            "+------------------+--------------------+\n",
            "|            genres|      list_of_movies|\n",
            "+------------------+--------------------+\n",
            "|             Crime|Stealing Rembrand...|\n",
            "|           Romance|Vampire in Brookl...|\n",
            "|          Thriller|Element of Crime,...|\n",
            "|         Adventure|Ice Age: Collisio...|\n",
            "|             Drama|Airport '77 (1977...|\n",
            "|               War|General, The (192...|\n",
            "|       Documentary|The Barkley Marat...|\n",
            "|           Fantasy|Masters of the Un...|\n",
            "|           Mystery|Before and After ...|\n",
            "|           Musical|U2: Rattle and Hu...|\n",
            "|         Animation|Ice Age: Collisio...|\n",
            "|         Film-Noir|Rififi (Du rififi...|\n",
            "|(no genres listed)|T2 3-D: Battle Ac...|\n",
            "|              IMAX|Harry Potter and ...|\n",
            "|            Horror|Underworld: Rise ...|\n",
            "|           Western|Man Who Shot Libe...|\n",
            "|            Comedy|Hysteria (2011),H...|\n",
            "|          Children|Ice Age: Collisio...|\n",
            "|            Action|Stealing Rembrand...|\n",
            "|            Sci-Fi|Push (2009),SORI:...|\n",
            "+------------------+--------------------+\n",
            "\n"
          ],
          "name": "stdout"
        }
      ]
    },
    {
      "cell_type": "markdown",
      "metadata": {
        "id": "H0P_rvYkAZIl"
      },
      "source": [
        "\n",
        "\n",
        "## **Part 2: Exploratory Data Analysis (EDA)**"
      ]
    },
    {
      "cell_type": "markdown",
      "metadata": {
        "id": "5Li7rxknfkEE"
      },
      "source": [
        "### **Ratings**"
      ]
    },
    {
      "cell_type": "code",
      "metadata": {
        "id": "E4OQh5Q-CugN",
        "colab": {
          "base_uri": "https://localhost:8080/",
          "height": 359
        },
        "outputId": "4149e50f-be0f-46d0-a44b-a4f0d31b6e64"
      },
      "source": [
        "# Distribution of rating by catogeries\n",
        "ratings_df.groupBy('rating').count().toPandas()"
      ],
      "execution_count": 24,
      "outputs": [
        {
          "output_type": "execute_result",
          "data": {
            "text/html": [
              "<div>\n",
              "<style scoped>\n",
              "    .dataframe tbody tr th:only-of-type {\n",
              "        vertical-align: middle;\n",
              "    }\n",
              "\n",
              "    .dataframe tbody tr th {\n",
              "        vertical-align: top;\n",
              "    }\n",
              "\n",
              "    .dataframe thead th {\n",
              "        text-align: right;\n",
              "    }\n",
              "</style>\n",
              "<table border=\"1\" class=\"dataframe\">\n",
              "  <thead>\n",
              "    <tr style=\"text-align: right;\">\n",
              "      <th></th>\n",
              "      <th>rating</th>\n",
              "      <th>count</th>\n",
              "    </tr>\n",
              "  </thead>\n",
              "  <tbody>\n",
              "    <tr>\n",
              "      <th>0</th>\n",
              "      <td>1.0</td>\n",
              "      <td>2811</td>\n",
              "    </tr>\n",
              "    <tr>\n",
              "      <th>1</th>\n",
              "      <td>4.5</td>\n",
              "      <td>8551</td>\n",
              "    </tr>\n",
              "    <tr>\n",
              "      <th>2</th>\n",
              "      <td>2.5</td>\n",
              "      <td>5550</td>\n",
              "    </tr>\n",
              "    <tr>\n",
              "      <th>3</th>\n",
              "      <td>3.5</td>\n",
              "      <td>13136</td>\n",
              "    </tr>\n",
              "    <tr>\n",
              "      <th>4</th>\n",
              "      <td>5.0</td>\n",
              "      <td>13211</td>\n",
              "    </tr>\n",
              "    <tr>\n",
              "      <th>5</th>\n",
              "      <td>0.5</td>\n",
              "      <td>1370</td>\n",
              "    </tr>\n",
              "    <tr>\n",
              "      <th>6</th>\n",
              "      <td>4.0</td>\n",
              "      <td>26818</td>\n",
              "    </tr>\n",
              "    <tr>\n",
              "      <th>7</th>\n",
              "      <td>1.5</td>\n",
              "      <td>1791</td>\n",
              "    </tr>\n",
              "    <tr>\n",
              "      <th>8</th>\n",
              "      <td>2.0</td>\n",
              "      <td>7551</td>\n",
              "    </tr>\n",
              "    <tr>\n",
              "      <th>9</th>\n",
              "      <td>3.0</td>\n",
              "      <td>20047</td>\n",
              "    </tr>\n",
              "  </tbody>\n",
              "</table>\n",
              "</div>"
            ],
            "text/plain": [
              "  rating  count\n",
              "0    1.0   2811\n",
              "1    4.5   8551\n",
              "2    2.5   5550\n",
              "3    3.5  13136\n",
              "4    5.0  13211\n",
              "5    0.5   1370\n",
              "6    4.0  26818\n",
              "7    1.5   1791\n",
              "8    2.0   7551\n",
              "9    3.0  20047"
            ]
          },
          "metadata": {
            "tags": []
          },
          "execution_count": 24
        }
      ]
    },
    {
      "cell_type": "code",
      "metadata": {
        "id": "ixwYKMwInEst",
        "colab": {
          "base_uri": "https://localhost:8080/",
          "height": 279
        },
        "outputId": "7cd725ea-58b9-4a66-b2fb-d3501a16c991"
      },
      "source": [
        "sns.barplot(x='rating', y='count', data=ratings_df.groupBy('rating').count().toPandas())\n",
        "plt.savefig('fig1.png', dpi=600)"
      ],
      "execution_count": 25,
      "outputs": [
        {
          "output_type": "display_data",
          "data": {
            "image/png": "[encoded data removed]",
            "text/plain": [
              "<Figure size 432x288 with 1 Axes>"
            ]
          },
          "metadata": {
            "tags": [],
            "needs_background": "light"
          }
        }
      ]
    },
    {
      "cell_type": "code",
      "metadata": {
        "id": "b2FXXBgJncQg",
        "colab": {
          "base_uri": "https://localhost:8080/",
          "height": 204
        },
        "outputId": "b7d2c4be-1b1f-4d52-cb1e-0e3356f65704"
      },
      "source": [
        "# Distribution of average rating of movies\n",
        "ratings_df.groupBy('MovieId').agg({\"rating\":\"mean\"}).toPandas().head()"
      ],
      "execution_count": 26,
      "outputs": [
        {
          "output_type": "execute_result",
          "data": {
            "text/html": [
              "<div>\n",
              "<style scoped>\n",
              "    .dataframe tbody tr th:only-of-type {\n",
              "        vertical-align: middle;\n",
              "    }\n",
              "\n",
              "    .dataframe tbody tr th {\n",
              "        vertical-align: top;\n",
              "    }\n",
              "\n",
              "    .dataframe thead th {\n",
              "        text-align: right;\n",
              "    }\n",
              "</style>\n",
              "<table border=\"1\" class=\"dataframe\">\n",
              "  <thead>\n",
              "    <tr style=\"text-align: right;\">\n",
              "      <th></th>\n",
              "      <th>MovieId</th>\n",
              "      <th>avg(rating)</th>\n",
              "    </tr>\n",
              "  </thead>\n",
              "  <tbody>\n",
              "    <tr>\n",
              "      <th>0</th>\n",
              "      <td>296</td>\n",
              "      <td>4.197068</td>\n",
              "    </tr>\n",
              "    <tr>\n",
              "      <th>1</th>\n",
              "      <td>1090</td>\n",
              "      <td>3.984127</td>\n",
              "    </tr>\n",
              "    <tr>\n",
              "      <th>2</th>\n",
              "      <td>115713</td>\n",
              "      <td>3.910714</td>\n",
              "    </tr>\n",
              "    <tr>\n",
              "      <th>3</th>\n",
              "      <td>3210</td>\n",
              "      <td>3.476190</td>\n",
              "    </tr>\n",
              "    <tr>\n",
              "      <th>4</th>\n",
              "      <td>88140</td>\n",
              "      <td>3.546875</td>\n",
              "    </tr>\n",
              "  </tbody>\n",
              "</table>\n",
              "</div>"
            ],
            "text/plain": [
              "  MovieId  avg(rating)\n",
              "0     296     4.197068\n",
              "1    1090     3.984127\n",
              "2  115713     3.910714\n",
              "3    3210     3.476190\n",
              "4   88140     3.546875"
            ]
          },
          "metadata": {
            "tags": []
          },
          "execution_count": 26
        }
      ]
    },
    {
      "cell_type": "code",
      "metadata": {
        "id": "NnYVfYEIpD4f",
        "colab": {
          "base_uri": "https://localhost:8080/",
          "height": 265
        },
        "outputId": "0bd538f4-0e44-4c21-d3aa-67fac2300438"
      },
      "source": [
        "ratings_df.groupBy('MovieId').agg({\"rating\":\"mean\"}).toPandas()['avg(rating)'].plot(kind='hist')\n",
        "plt.savefig('fig2.png')"
      ],
      "execution_count": 27,
      "outputs": [
        {
          "output_type": "display_data",
          "data": {
            "image/png": "[encoded data removed]",
            "text/plain": [
              "<Figure size 432x288 with 1 Axes>"
            ]
          },
          "metadata": {
            "tags": [],
            "needs_background": "light"
          }
        }
      ]
    },
    {
      "cell_type": "code",
      "metadata": {
        "colab": {
          "base_uri": "https://localhost:8080/",
          "height": 204
        },
        "id": "qY0guUI9ee4p",
        "outputId": "38005a7f-d70d-4a43-9e84-d306d99e6113"
      },
      "source": [
        "#average rating from users\n",
        "ratings_df.groupBy('userID').agg({\"rating\":\"mean\"}).toPandas().head()"
      ],
      "execution_count": 28,
      "outputs": [
        {
          "output_type": "execute_result",
          "data": {
            "text/html": [
              "<div>\n",
              "<style scoped>\n",
              "    .dataframe tbody tr th:only-of-type {\n",
              "        vertical-align: middle;\n",
              "    }\n",
              "\n",
              "    .dataframe tbody tr th {\n",
              "        vertical-align: top;\n",
              "    }\n",
              "\n",
              "    .dataframe thead th {\n",
              "        text-align: right;\n",
              "    }\n",
              "</style>\n",
              "<table border=\"1\" class=\"dataframe\">\n",
              "  <thead>\n",
              "    <tr style=\"text-align: right;\">\n",
              "      <th></th>\n",
              "      <th>userID</th>\n",
              "      <th>avg(rating)</th>\n",
              "    </tr>\n",
              "  </thead>\n",
              "  <tbody>\n",
              "    <tr>\n",
              "      <th>0</th>\n",
              "      <td>296</td>\n",
              "      <td>4.166667</td>\n",
              "    </tr>\n",
              "    <tr>\n",
              "      <th>1</th>\n",
              "      <td>467</td>\n",
              "      <td>3.409091</td>\n",
              "    </tr>\n",
              "    <tr>\n",
              "      <th>2</th>\n",
              "      <td>125</td>\n",
              "      <td>3.859722</td>\n",
              "    </tr>\n",
              "    <tr>\n",
              "      <th>3</th>\n",
              "      <td>451</td>\n",
              "      <td>3.794118</td>\n",
              "    </tr>\n",
              "    <tr>\n",
              "      <th>4</th>\n",
              "      <td>7</td>\n",
              "      <td>3.230263</td>\n",
              "    </tr>\n",
              "  </tbody>\n",
              "</table>\n",
              "</div>"
            ],
            "text/plain": [
              "  userID  avg(rating)\n",
              "0    296     4.166667\n",
              "1    467     3.409091\n",
              "2    125     3.859722\n",
              "3    451     3.794118\n",
              "4      7     3.230263"
            ]
          },
          "metadata": {
            "tags": []
          },
          "execution_count": 28
        }
      ]
    },
    {
      "cell_type": "code",
      "metadata": {
        "colab": {
          "base_uri": "https://localhost:8080/",
          "height": 265
        },
        "id": "v4bBSPdJe0VB",
        "outputId": "a4c7ce1e-3670-451a-d842-731fc9d0fd40"
      },
      "source": [
        "ratings_df.groupBy('userID').agg({\"rating\":\"mean\"}).toPandas()['avg(rating)'].plot(kind='hist')\n",
        "plt.savefig('fig_003.png', dpi=600)"
      ],
      "execution_count": 29,
      "outputs": [
        {
          "output_type": "display_data",
          "data": {
            "image/png": "[encoded data removed]",
            "text/plain": [
              "<Figure size 432x288 with 1 Axes>"
            ]
          },
          "metadata": {
            "tags": [],
            "needs_background": "light"
          }
        }
      ]
    },
    {
      "cell_type": "markdown",
      "metadata": {
        "id": "8004jy83fzfk"
      },
      "source": [
        "### **Movies**"
      ]
    },
    {
      "cell_type": "code",
      "metadata": {
        "colab": {
          "base_uri": "https://localhost:8080/"
        },
        "id": "SR8l7YLtfTRr",
        "outputId": "2833432c-07a8-4180-cf14-17c3b87a51ff"
      },
      "source": [
        "# define a UDF to convert the raw genres string to an array of genres and lowercase\n",
        "extract_genres = udf(lambda x: x.lower().split(\"|\"), ArrayType(StringType()))\n",
        "# test it out\n",
        "movies_df.select(\"movieId\", \"title\", extract_genres(\"genres\").alias(\"genres\")).show(5, False)"
      ],
      "execution_count": 30,
      "outputs": [
        {
          "output_type": "stream",
          "text": [
            "+-------+----------------------------------+-------------------------------------------------+\n",
            "|movieId|title                             |genres                                           |\n",
            "+-------+----------------------------------+-------------------------------------------------+\n",
            "|1      |Toy Story (1995)                  |[adventure, animation, children, comedy, fantasy]|\n",
            "|2      |Jumanji (1995)                    |[adventure, children, fantasy]                   |\n",
            "|3      |Grumpier Old Men (1995)           |[comedy, romance]                                |\n",
            "|4      |Waiting to Exhale (1995)          |[comedy, drama, romance]                         |\n",
            "|5      |Father of the Bride Part II (1995)|[comedy]                                         |\n",
            "+-------+----------------------------------+-------------------------------------------------+\n",
            "only showing top 5 rows\n",
            "\n"
          ],
          "name": "stdout"
        }
      ]
    },
    {
      "cell_type": "code",
      "metadata": {
        "colab": {
          "base_uri": "https://localhost:8080/"
        },
        "id": "NUaaktNOhzjQ",
        "outputId": "394eff3e-9126-479d-f288-5cacdd4636ea"
      },
      "source": [
        "# Next, define a UDF to extract the release year from the title, and return the new title and year in a struct type\n",
        "def extract_year_fn(title):\n",
        "    result = re.search(\"\\(\\d{4}\\)\", title)\n",
        "    try:\n",
        "        if result:\n",
        "            group = result.group()\n",
        "            year = group[1:-1]\n",
        "            start_pos = result.start()\n",
        "            title = title[:start_pos-1]\n",
        "            return (title, year)\n",
        "        else:\n",
        "            return (title, 1970)\n",
        "    except:\n",
        "        print(title)\n",
        "\n",
        "extract_year = udf(extract_year_fn,\\\n",
        "                   StructType([StructField(\"title\", StringType(), True),\\\n",
        "                               StructField(\"release_date\", StringType(), True)]))\n",
        "\n",
        "# test:\n",
        "s = \"Jumanji (1995)\"\n",
        "extract_year_fn(s)"
      ],
      "execution_count": 31,
      "outputs": [
        {
          "output_type": "execute_result",
          "data": {
            "text/plain": [
              "('Jumanji', '1995')"
            ]
          },
          "metadata": {
            "tags": []
          },
          "execution_count": 31
        }
      ]
    },
    {
      "cell_type": "code",
      "metadata": {
        "colab": {
          "base_uri": "https://localhost:8080/"
        },
        "id": "oTu6SO49jIT1",
        "outputId": "684ea891-66e8-40b9-b066-dc8acb84cadc"
      },
      "source": [
        "# Now we can create a new dataframe with the cleaned-up titles, release dates and genres of the movies.\n",
        "movies = movies_df.select('movieId', extract_year('title').title.alias('title'),\\\n",
        "                          extract_year('title').release_date.alias('release_date'),\\\n",
        "                          extract_genres('genres').alias('genres'))\n",
        "print('Cleaned movie data:')\n",
        "movies.show(5, truncate=False)"
      ],
      "execution_count": 32,
      "outputs": [
        {
          "output_type": "stream",
          "text": [
            "Cleaned movie data:\n",
            "+-------+---------------------------+------------+-------------------------------------------------+\n",
            "|movieId|title                      |release_date|genres                                           |\n",
            "+-------+---------------------------+------------+-------------------------------------------------+\n",
            "|1      |Toy Story                  |1995        |[adventure, animation, children, comedy, fantasy]|\n",
            "|2      |Jumanji                    |1995        |[adventure, children, fantasy]                   |\n",
            "|3      |Grumpier Old Men           |1995        |[comedy, romance]                                |\n",
            "|4      |Waiting to Exhale          |1995        |[comedy, drama, romance]                         |\n",
            "|5      |Father of the Bride Part II|1995        |[comedy]                                         |\n",
            "+-------+---------------------------+------------+-------------------------------------------------+\n",
            "only showing top 5 rows\n",
            "\n"
          ],
          "name": "stdout"
        }
      ]
    },
    {
      "cell_type": "markdown",
      "metadata": {
        "id": "fLnaD__EeEY1"
      },
      "source": [
        "## **Part 3: Recommender System based on Spark ALS**"
      ]
    },
    {
      "cell_type": "markdown",
      "metadata": {
        "id": "b5nFR9MZ23NE"
      },
      "source": [
        "### ALS Model Selection and Evaluation\n",
        "Step1: We use the Alternating Least Squares (ALS) method to train our collaborative filtering model. \\\\\n",
        "Step 2: Then we can use a grid search method and 5-fold cross validation to find the optimal hyperparameters and model.\n",
        "https://spark.apache.org/docs/2.2.0/ml-collaborative-filtering.html\n",
        "\n"
      ]
    },
    {
      "cell_type": "code",
      "metadata": {
        "id": "_wxnoM3jtfnh"
      },
      "source": [
        "from pyspark.ml.evaluation import RegressionEvaluator\n",
        "from pyspark.ml.recommendation import ALS\n",
        "from pyspark.ml.tuning import CrossValidator,ParamGridBuilder\n",
        "from pyspark.sql.functions import col, explode\n",
        "from pyspark import SparkContext"
      ],
      "execution_count": 33,
      "outputs": []
    },
    {
      "cell_type": "code",
      "metadata": {
        "colab": {
          "base_uri": "https://localhost:8080/"
        },
        "id": "8QjN5atQdoXR",
        "outputId": "d9decfb0-b51e-4487-d907-8b96ac456bf5"
      },
      "source": [
        "ratings_df.show(5)"
      ],
      "execution_count": 34,
      "outputs": [
        {
          "output_type": "stream",
          "text": [
            "+------+-------+------+---------+\n",
            "|userId|movieId|rating|timestamp|\n",
            "+------+-------+------+---------+\n",
            "|     1|      1|   4.0|964982703|\n",
            "|     1|      3|   4.0|964981247|\n",
            "|     1|      6|   4.0|964982224|\n",
            "|     1|     47|   5.0|964983815|\n",
            "|     1|     50|   5.0|964982931|\n",
            "+------+-------+------+---------+\n",
            "only showing top 5 rows\n",
            "\n"
          ],
          "name": "stdout"
        }
      ]
    },
    {
      "cell_type": "code",
      "metadata": {
        "id": "CDZoKMipFSbS"
      },
      "source": [
        "movie_ratings = ratings_df.drop('timestamp')"
      ],
      "execution_count": 35,
      "outputs": []
    },
    {
      "cell_type": "code",
      "metadata": {
        "id": "xifM6MqLFc-B"
      },
      "source": [
        "# Data type convert\n",
        "from pyspark.sql.types import IntegerType, FloatType\n",
        "movie_ratings = movie_ratings.withColumn(\"userId\", movie_ratings[\"userId\"].cast(IntegerType()))\n",
        "movie_ratings = movie_ratings.withColumn(\"movieId\", movie_ratings[\"movieId\"].cast(IntegerType()))\n",
        "movie_ratings = movie_ratings.withColumn(\"rating\", movie_ratings[\"rating\"].cast(FloatType()))"
      ],
      "execution_count": 36,
      "outputs": []
    },
    {
      "cell_type": "code",
      "metadata": {
        "colab": {
          "base_uri": "https://localhost:8080/"
        },
        "id": "WP1yy1v0FjiR",
        "outputId": "1ec9cb5e-fc5b-4ca4-d59c-ecaac37e36af"
      },
      "source": [
        "movie_ratings.show()"
      ],
      "execution_count": 38,
      "outputs": [
        {
          "output_type": "stream",
          "text": [
            "+------+-------+------+\n",
            "|userId|movieId|rating|\n",
            "+------+-------+------+\n",
            "|     1|      1|   4.0|\n",
            "|     1|      3|   4.0|\n",
            "|     1|      6|   4.0|\n",
            "|     1|     47|   5.0|\n",
            "|     1|     50|   5.0|\n",
            "|     1|     70|   3.0|\n",
            "|     1|    101|   5.0|\n",
            "|     1|    110|   4.0|\n",
            "|     1|    151|   5.0|\n",
            "|     1|    157|   5.0|\n",
            "|     1|    163|   5.0|\n",
            "|     1|    216|   5.0|\n",
            "|     1|    223|   3.0|\n",
            "|     1|    231|   5.0|\n",
            "|     1|    235|   4.0|\n",
            "|     1|    260|   5.0|\n",
            "|     1|    296|   3.0|\n",
            "|     1|    316|   3.0|\n",
            "|     1|    333|   5.0|\n",
            "|     1|    349|   4.0|\n",
            "+------+-------+------+\n",
            "only showing top 20 rows\n",
            "\n"
          ],
          "name": "stdout"
        }
      ]
    },
    {
      "cell_type": "code",
      "metadata": {
        "id": "9aouobex2DbR"
      },
      "source": [
        "(training,test)=movie_ratings.randomSplit([0.8,0.2], seed=2021)"
      ],
      "execution_count": 39,
      "outputs": []
    },
    {
      "cell_type": "code",
      "metadata": {
        "id": "xTFhRLPZ2MEd"
      },
      "source": [
        "# Create ALS model\n",
        "als = ALS(userCol=\"userId\", itemCol=\"movieId\", ratingCol=\"rating\",\n",
        "          coldStartStrategy=\"drop\")"
      ],
      "execution_count": 40,
      "outputs": []
    },
    {
      "cell_type": "code",
      "metadata": {
        "id": "-eaUQFnv2ORN"
      },
      "source": [
        "#Tune parameters using ParamGridBuilder\n",
        "param_grid = ParamGridBuilder() \\\n",
        "            .addGrid(als.rank, [5,10,15]) \\\n",
        "            .addGrid(als.regParam, [.01, .05, .1, 0.5,1]) \\\n",
        "            .addGrid(als.maxIter, [1,5,10,20]) \\\n",
        "            .build()"
      ],
      "execution_count": 41,
      "outputs": []
    },
    {
      "cell_type": "code",
      "metadata": {
        "colab": {
          "base_uri": "https://localhost:8080/"
        },
        "id": "PL3sf1QU2iyg",
        "outputId": "b791f272-4b55-46a3-cc1c-1b8876e7d024"
      },
      "source": [
        "evaluator = RegressionEvaluator(\n",
        "           metricName=\"rmse\", \n",
        "           labelCol=\"rating\", \n",
        "           predictionCol=\"prediction\") \n",
        "print (\"Num models to be tested: \", len(param_grid))"
      ],
      "execution_count": 42,
      "outputs": [
        {
          "output_type": "stream",
          "text": [
            "Num models to be tested:  60\n"
          ],
          "name": "stdout"
        }
      ]
    },
    {
      "cell_type": "code",
      "metadata": {
        "id": "Z4mRzqRk2lzL"
      },
      "source": [
        "# Build Cross validation \n",
        "cv = CrossValidator(estimator=als, estimatorParamMaps=param_grid, evaluator=evaluator, numFolds=5)"
      ],
      "execution_count": 43,
      "outputs": []
    },
    {
      "cell_type": "code",
      "metadata": {
        "id": "tXjPa4_L2o0r"
      },
      "source": [
        "#Fit ALS model to training data\n",
        "model = cv.fit(training)"
      ],
      "execution_count": 44,
      "outputs": []
    },
    {
      "cell_type": "code",
      "metadata": {
        "id": "R8NCE7wn2tSt"
      },
      "source": [
        "#Extract best model from the tuning exercise using ParamGridBuilder\n",
        "best_model = model.bestModel"
      ],
      "execution_count": 45,
      "outputs": []
    },
    {
      "cell_type": "markdown",
      "metadata": {
        "id": "oSLQmTAf4OOI"
      },
      "source": [
        "### Model testing\n",
        "Make a prediction and check the testing error"
      ]
    },
    {
      "cell_type": "code",
      "metadata": {
        "id": "Lp_Fenuc4N7v"
      },
      "source": [
        "predictions=best_model.transform(test)\n",
        "evaluator = RegressionEvaluator(metricName=\"rmse\", labelCol=\"rating\",\n",
        "                                predictionCol=\"prediction\")\n",
        "rmse = evaluator.evaluate(predictions)"
      ],
      "execution_count": 46,
      "outputs": []
    },
    {
      "cell_type": "code",
      "metadata": {
        "colab": {
          "base_uri": "https://localhost:8080/"
        },
        "id": "nF0VEo-aQV5F",
        "outputId": "6ca5686b-1847-425d-f6b2-043e1ead59a4"
      },
      "source": [
        "best_model.itemFactors.take(3)\n"
      ],
      "execution_count": 47,
      "outputs": [
        {
          "output_type": "execute_result",
          "data": {
            "text/plain": [
              "[Row(id=10, features=[-0.6803321838378906, 1.0536303520202637, 0.5431411862373352, 1.223325252532959, 0.5036402344703674]),\n",
              " Row(id=20, features=[-0.20297405123710632, 0.002049393253400922, 0.6218985319137573, 1.3872772455215454, 0.06215854361653328]),\n",
              " Row(id=30, features=[0.28143182396888733, -0.757163941860199, 1.6056792736053467, 0.8876832127571106, 0.8193959593772888])]"
            ]
          },
          "metadata": {
            "tags": []
          },
          "execution_count": 47
        }
      ]
    },
    {
      "cell_type": "code",
      "metadata": {
        "colab": {
          "base_uri": "https://localhost:8080/"
        },
        "id": "9hrzjw_101ps",
        "outputId": "428f5a37-0e10-49aa-975b-462cacaae85f"
      },
      "source": [
        "best_model.userFactors.take(3)"
      ],
      "execution_count": 48,
      "outputs": [
        {
          "output_type": "execute_result",
          "data": {
            "text/plain": [
              "[Row(id=10, features=[-1.2579220533370972, 0.49616900086402893, -0.36562177538871765, 1.5312559604644775, -0.49138668179512024]),\n",
              " Row(id=20, features=[-0.1411479413509369, -0.22402654588222504, 0.32051968574523926, 2.063145399093628, 0.6851462721824646]),\n",
              " Row(id=30, features=[-0.6276765465736389, 0.9084822535514832, 0.22161878645420074, 1.7361475229263306, 0.8384144306182861])]"
            ]
          },
          "metadata": {
            "tags": []
          },
          "execution_count": 48
        }
      ]
    },
    {
      "cell_type": "code",
      "metadata": {
        "id": "xbSjiPpo4XJt",
        "colab": {
          "base_uri": "https://localhost:8080/"
        },
        "outputId": "7d53f475-67c6-4d43-8976-cc86ed2ed184"
      },
      "source": [
        "print (\"RMSE = \"+str(rmse))\n",
        "print (\"**Best Model**\")\n",
        "print (\" Rank:\",best_model._java_obj.parent().getRank()), \n",
        "print (\" MaxIter:\", best_model._java_obj.parent().getMaxIter()), \n",
        "print (\" RegParam:\", best_model._java_obj.parent().getRegParam())\n",
        "\n",
        "#https://stackoverflow.com/questions/36697304/how-to-extract-model-hyper-parameters-from-spark-ml-in-pyspark\n",
        "#to extract model hyper-parameters from spark.ml in PySpark."
      ],
      "execution_count": 49,
      "outputs": [
        {
          "output_type": "stream",
          "text": [
            "RMSE = 0.8774600150377428\n",
            "**Best Model**\n",
            " Rank: 5\n",
            " MaxIter: 20\n",
            " RegParam: 0.1\n"
          ],
          "name": "stdout"
        }
      ]
    },
    {
      "cell_type": "code",
      "metadata": {
        "id": "e5Yq41ar4a6-",
        "colab": {
          "base_uri": "https://localhost:8080/"
        },
        "outputId": "8592745c-d427-47e6-cc74-70419f27ef50"
      },
      "source": [
        "predictions.show()"
      ],
      "execution_count": 50,
      "outputs": [
        {
          "output_type": "stream",
          "text": [
            "+------+-------+------+----------+\n",
            "|userId|movieId|rating|prediction|\n",
            "+------+-------+------+----------+\n",
            "|   133|    471|   4.0|  2.936203|\n",
            "|   597|    471|   2.0|  4.202857|\n",
            "|    91|    471|   1.0| 2.6440616|\n",
            "|   372|    471|   3.0| 3.4645562|\n",
            "|   462|    471|   2.5| 2.8448946|\n",
            "|   273|    471|   5.0| 4.3586736|\n",
            "|   104|    471|   4.5| 3.7255955|\n",
            "|   609|    833|   3.0| 1.6654465|\n",
            "|   463|   1088|   3.5| 3.2195218|\n",
            "|   159|   1088|   4.0| 3.2641032|\n",
            "|   606|   1088|   3.0| 3.1884484|\n",
            "|   132|   1088|   4.0|  2.811763|\n",
            "|   554|   1088|   5.0|  3.489267|\n",
            "|   509|   1088|   3.0|  3.241763|\n",
            "|   226|   1088|   1.0| 3.1586156|\n",
            "|   188|   1088|   4.0|  3.493246|\n",
            "|   517|   1088|   1.0|  2.594212|\n",
            "|   325|   1342|   4.0| 2.6032484|\n",
            "|    19|   1342|   2.0|  2.012765|\n",
            "|   593|   1580|   1.5| 2.7268054|\n",
            "+------+-------+------+----------+\n",
            "only showing top 20 rows\n",
            "\n"
          ],
          "name": "stdout"
        }
      ]
    },
    {
      "cell_type": "markdown",
      "metadata": {
        "id": "9zE1X9cXV-FP"
      },
      "source": [
        "### Model Apply and see the performance\n"
      ]
    },
    {
      "cell_type": "code",
      "metadata": {
        "id": "CSZgtxxS4ddz",
        "colab": {
          "base_uri": "https://localhost:8080/"
        },
        "outputId": "c0f15026-5062-4e5a-bab2-b463c6c320dd"
      },
      "source": [
        "alldata=best_model.transform(movie_ratings)\n",
        "rmse = evaluator.evaluate(alldata)\n",
        "print (\"RMSE = \"+str(rmse))"
      ],
      "execution_count": 51,
      "outputs": [
        {
          "output_type": "stream",
          "text": [
            "RMSE = 0.6879247621562344\n"
          ],
          "name": "stdout"
        }
      ]
    },
    {
      "cell_type": "code",
      "metadata": {
        "id": "Y7Jw5-304f0h"
      },
      "source": [
        "alldata.registerTempTable(\"alldata\")"
      ],
      "execution_count": 52,
      "outputs": []
    },
    {
      "cell_type": "code",
      "metadata": {
        "id": "G1arruyXeBup",
        "colab": {
          "base_uri": "https://localhost:8080/"
        },
        "outputId": "7c5697ce-367d-4135-cce1-e88beb96575e"
      },
      "source": [
        "alldata.show()"
      ],
      "execution_count": 53,
      "outputs": [
        {
          "output_type": "stream",
          "text": [
            "+------+-------+------+----------+\n",
            "|userId|movieId|rating|prediction|\n",
            "+------+-------+------+----------+\n",
            "|   133|    471|   4.0|  2.936203|\n",
            "|   597|    471|   2.0|  4.202857|\n",
            "|   385|    471|   4.0| 3.1731503|\n",
            "|   436|    471|   3.0|  3.555396|\n",
            "|   602|    471|   4.0| 3.1846871|\n",
            "|    91|    471|   1.0| 2.6440616|\n",
            "|   409|    471|   3.0| 3.9559875|\n",
            "|   372|    471|   3.0| 3.4645562|\n",
            "|   599|    471|   2.5|  2.928978|\n",
            "|   603|    471|   4.0| 3.5644493|\n",
            "|   182|    471|   4.5| 3.6758513|\n",
            "|   218|    471|   4.0| 3.4209101|\n",
            "|   474|    471|   3.0| 3.4139369|\n",
            "|   500|    471|   1.0|  2.357656|\n",
            "|    57|    471|   3.0| 3.7990675|\n",
            "|   462|    471|   2.5| 2.8448946|\n",
            "|   387|    471|   3.0| 3.1810107|\n",
            "|   610|    471|   4.0| 3.7888393|\n",
            "|   217|    471|   2.0| 2.5116534|\n",
            "|   555|    471|   3.0| 3.9256139|\n",
            "+------+-------+------+----------+\n",
            "only showing top 20 rows\n",
            "\n"
          ],
          "name": "stdout"
        }
      ]
    },
    {
      "cell_type": "code",
      "metadata": {
        "id": "LNFPQTEurh8t",
        "colab": {
          "base_uri": "https://localhost:8080/"
        },
        "outputId": "4b6175c6-19bd-4e1d-fec5-5ddd2ce51bbb"
      },
      "source": [
        "spark.sql(\"select * from movies join alldata on movies.movieId = alldata.movieId\").show()"
      ],
      "execution_count": 55,
      "outputs": [
        {
          "output_type": "stream",
          "text": [
            "+-------+--------------------+------+------+-------+------+----------+\n",
            "|movieId|               title|genres|userId|movieId|rating|prediction|\n",
            "+-------+--------------------+------+------+-------+------+----------+\n",
            "|    471|Hudsucker Proxy, ...|Comedy|   133|    471|   4.0|  2.936203|\n",
            "|    471|Hudsucker Proxy, ...|Comedy|   597|    471|   2.0|  4.202857|\n",
            "|    471|Hudsucker Proxy, ...|Comedy|   385|    471|   4.0| 3.1731503|\n",
            "|    471|Hudsucker Proxy, ...|Comedy|   436|    471|   3.0|  3.555396|\n",
            "|    471|Hudsucker Proxy, ...|Comedy|   602|    471|   4.0| 3.1846871|\n",
            "|    471|Hudsucker Proxy, ...|Comedy|    91|    471|   1.0| 2.6440616|\n",
            "|    471|Hudsucker Proxy, ...|Comedy|   409|    471|   3.0| 3.9559875|\n",
            "|    471|Hudsucker Proxy, ...|Comedy|   372|    471|   3.0| 3.4645562|\n",
            "|    471|Hudsucker Proxy, ...|Comedy|   599|    471|   2.5|  2.928978|\n",
            "|    471|Hudsucker Proxy, ...|Comedy|   603|    471|   4.0| 3.5644493|\n",
            "|    471|Hudsucker Proxy, ...|Comedy|   182|    471|   4.5| 3.6758513|\n",
            "|    471|Hudsucker Proxy, ...|Comedy|   218|    471|   4.0| 3.4209101|\n",
            "|    471|Hudsucker Proxy, ...|Comedy|   474|    471|   3.0| 3.4139369|\n",
            "|    471|Hudsucker Proxy, ...|Comedy|   500|    471|   1.0|  2.357656|\n",
            "|    471|Hudsucker Proxy, ...|Comedy|    57|    471|   3.0| 3.7990675|\n",
            "|    471|Hudsucker Proxy, ...|Comedy|   462|    471|   2.5| 2.8448946|\n",
            "|    471|Hudsucker Proxy, ...|Comedy|   387|    471|   3.0| 3.1810107|\n",
            "|    471|Hudsucker Proxy, ...|Comedy|   610|    471|   4.0| 3.7888393|\n",
            "|    471|Hudsucker Proxy, ...|Comedy|   217|    471|   2.0| 2.5116534|\n",
            "|    471|Hudsucker Proxy, ...|Comedy|   555|    471|   3.0| 3.9256139|\n",
            "+-------+--------------------+------+------+-------+------+----------+\n",
            "only showing top 20 rows\n",
            "\n"
          ],
          "name": "stdout"
        }
      ]
    },
    {
      "cell_type": "markdown",
      "metadata": {
        "id": "-kYhAUwesoeP"
      },
      "source": [
        "### Recommend movie to users with id 575 and 202"
      ]
    },
    {
      "cell_type": "code",
      "metadata": {
        "id": "uUoO1m0zszIV",
        "colab": {
          "base_uri": "https://localhost:8080/"
        },
        "outputId": "0086aa09-e334-4f31-9d8e-793a54f46558"
      },
      "source": [
        "!pip install koalas\n",
        "import databricks.koalas as ks"
      ],
      "execution_count": 56,
      "outputs": [
        {
          "output_type": "stream",
          "text": [
            "Collecting koalas\n",
            "\u001b[?25l  Downloading https://files.pythonhosted.org/packages/1d/91/58c88fc3221d7c21d854d7d9c0fe081bf1ac244c1e4496bb2b56e1f31e25/koalas-1.6.0-py3-none-any.whl (668kB)\n",
            "\r\u001b[K     |▌                               | 10kB 10.8MB/s eta 0:00:01\r\u001b[K     |█                               | 20kB 15.7MB/s eta 0:00:01\r\u001b[K     |█▌                              | 30kB 11.9MB/s eta 0:00:01\r\u001b[K     |██                              | 40kB 10.1MB/s eta 0:00:01\r\u001b[K     |██▌                             | 51kB 5.1MB/s eta 0:00:01\r\u001b[K     |███                             | 61kB 5.7MB/s eta 0:00:01\r\u001b[K     |███▍                            | 71kB 6.0MB/s eta 0:00:01\r\u001b[K     |████                            | 81kB 6.4MB/s eta 0:00:01\r\u001b[K     |████▍                           | 92kB 6.3MB/s eta 0:00:01\r\u001b[K     |█████                           | 102kB 5.1MB/s eta 0:00:01\r\u001b[K     |█████▍                          | 112kB 5.1MB/s eta 0:00:01\r\u001b[K     |█████▉                          | 122kB 5.1MB/s eta 0:00:01\r\u001b[K     |██████▍                         | 133kB 5.1MB/s eta 0:00:01\r\u001b[K     |██████▉                         | 143kB 5.1MB/s eta 0:00:01\r\u001b[K     |███████▍                        | 153kB 5.1MB/s eta 0:00:01\r\u001b[K     |███████▉                        | 163kB 5.1MB/s eta 0:00:01\r\u001b[K     |████████▍                       | 174kB 5.1MB/s eta 0:00:01\r\u001b[K     |████████▉                       | 184kB 5.1MB/s eta 0:00:01\r\u001b[K     |█████████▎                      | 194kB 5.1MB/s eta 0:00:01\r\u001b[K     |█████████▉                      | 204kB 5.1MB/s eta 0:00:01\r\u001b[K     |██████████▎                     | 215kB 5.1MB/s eta 0:00:01\r\u001b[K     |██████████▉                     | 225kB 5.1MB/s eta 0:00:01\r\u001b[K     |███████████▎                    | 235kB 5.1MB/s eta 0:00:01\r\u001b[K     |███████████▊                    | 245kB 5.1MB/s eta 0:00:01\r\u001b[K     |████████████▎                   | 256kB 5.1MB/s eta 0:00:01\r\u001b[K     |████████████▊                   | 266kB 5.1MB/s eta 0:00:01\r\u001b[K     |█████████████▎                  | 276kB 5.1MB/s eta 0:00:01\r\u001b[K     |█████████████▊                  | 286kB 5.1MB/s eta 0:00:01\r\u001b[K     |██████████████▏                 | 296kB 5.1MB/s eta 0:00:01\r\u001b[K     |██████████████▊                 | 307kB 5.1MB/s eta 0:00:01\r\u001b[K     |███████████████▏                | 317kB 5.1MB/s eta 0:00:01\r\u001b[K     |███████████████▊                | 327kB 5.1MB/s eta 0:00:01\r\u001b[K     |████████████████▏               | 337kB 5.1MB/s eta 0:00:01\r\u001b[K     |████████████████▊               | 348kB 5.1MB/s eta 0:00:01\r\u001b[K     |█████████████████▏              | 358kB 5.1MB/s eta 0:00:01\r\u001b[K     |█████████████████▋              | 368kB 5.1MB/s eta 0:00:01\r\u001b[K     |██████████████████▏             | 378kB 5.1MB/s eta 0:00:01\r\u001b[K     |██████████████████▋             | 389kB 5.1MB/s eta 0:00:01\r\u001b[K     |███████████████████▏            | 399kB 5.1MB/s eta 0:00:01\r\u001b[K     |███████████████████▋            | 409kB 5.1MB/s eta 0:00:01\r\u001b[K     |████████████████████            | 419kB 5.1MB/s eta 0:00:01\r\u001b[K     |████████████████████▋           | 430kB 5.1MB/s eta 0:00:01\r\u001b[K     |█████████████████████           | 440kB 5.1MB/s eta 0:00:01\r\u001b[K     |█████████████████████▋          | 450kB 5.1MB/s eta 0:00:01\r\u001b[K     |██████████████████████          | 460kB 5.1MB/s eta 0:00:01\r\u001b[K     |██████████████████████▋         | 471kB 5.1MB/s eta 0:00:01\r\u001b[K     |███████████████████████         | 481kB 5.1MB/s eta 0:00:01\r\u001b[K     |███████████████████████▌        | 491kB 5.1MB/s eta 0:00:01\r\u001b[K     |████████████████████████        | 501kB 5.1MB/s eta 0:00:01\r\u001b[K     |████████████████████████▌       | 512kB 5.1MB/s eta 0:00:01\r\u001b[K     |█████████████████████████       | 522kB 5.1MB/s eta 0:00:01\r\u001b[K     |█████████████████████████▌      | 532kB 5.1MB/s eta 0:00:01\r\u001b[K     |██████████████████████████      | 542kB 5.1MB/s eta 0:00:01\r\u001b[K     |██████████████████████████▌     | 552kB 5.1MB/s eta 0:00:01\r\u001b[K     |███████████████████████████     | 563kB 5.1MB/s eta 0:00:01\r\u001b[K     |███████████████████████████▌    | 573kB 5.1MB/s eta 0:00:01\r\u001b[K     |████████████████████████████    | 583kB 5.1MB/s eta 0:00:01\r\u001b[K     |████████████████████████████▍   | 593kB 5.1MB/s eta 0:00:01\r\u001b[K     |█████████████████████████████   | 604kB 5.1MB/s eta 0:00:01\r\u001b[K     |█████████████████████████████▍  | 614kB 5.1MB/s eta 0:00:01\r\u001b[K     |██████████████████████████████  | 624kB 5.1MB/s eta 0:00:01\r\u001b[K     |██████████████████████████████▍ | 634kB 5.1MB/s eta 0:00:01\r\u001b[K     |███████████████████████████████ | 645kB 5.1MB/s eta 0:00:01\r\u001b[K     |███████████████████████████████▍| 655kB 5.1MB/s eta 0:00:01\r\u001b[K     |███████████████████████████████▉| 665kB 5.1MB/s eta 0:00:01\r\u001b[K     |████████████████████████████████| 675kB 5.1MB/s \n",
            "\u001b[?25hRequirement already satisfied: pyarrow>=0.10 in /usr/local/lib/python3.7/dist-packages (from koalas) (3.0.0)\n",
            "Requirement already satisfied: numpy>=1.14 in /usr/local/lib/python3.7/dist-packages (from koalas) (1.19.5)\n",
            "Requirement already satisfied: pandas<1.2.0,>=0.23.2 in /usr/local/lib/python3.7/dist-packages (from koalas) (1.1.5)\n",
            "Requirement already satisfied: matplotlib<3.3.0,>=3.0.0 in /usr/local/lib/python3.7/dist-packages (from koalas) (3.2.2)\n",
            "Requirement already satisfied: pytz>=2017.2 in /usr/local/lib/python3.7/dist-packages (from pandas<1.2.0,>=0.23.2->koalas) (2018.9)\n",
            "Requirement already satisfied: python-dateutil>=2.7.3 in /usr/local/lib/python3.7/dist-packages (from pandas<1.2.0,>=0.23.2->koalas) (2.8.1)\n",
            "Requirement already satisfied: cycler>=0.10 in /usr/local/lib/python3.7/dist-packages (from matplotlib<3.3.0,>=3.0.0->koalas) (0.10.0)\n",
            "Requirement already satisfied: kiwisolver>=1.0.1 in /usr/local/lib/python3.7/dist-packages (from matplotlib<3.3.0,>=3.0.0->koalas) (1.3.1)\n",
            "Requirement already satisfied: pyparsing!=2.0.4,!=2.1.2,!=2.1.6,>=2.0.1 in /usr/local/lib/python3.7/dist-packages (from matplotlib<3.3.0,>=3.0.0->koalas) (2.4.7)\n",
            "Requirement already satisfied: six>=1.5 in /usr/local/lib/python3.7/dist-packages (from python-dateutil>=2.7.3->pandas<1.2.0,>=0.23.2->koalas) (1.15.0)\n",
            "Installing collected packages: koalas\n",
            "Successfully installed koalas-1.6.0\n"
          ],
          "name": "stdout"
        },
        {
          "output_type": "stream",
          "text": [
            "WARNING:root:'PYARROW_IGNORE_TIMEZONE' environment variable was not set. It is required to set this environment variable to '1' in both driver and executor sides if you use pyarrow>=2.0.0. Koalas will set it for you but it does not work if there is a Spark context already launched.\n"
          ],
          "name": "stderr"
        }
      ]
    },
    {
      "cell_type": "code",
      "metadata": {
        "id": "BKjUxOUBVQLE"
      },
      "source": [
        "# Generate top 10 movie recommendations for each user\n",
        "userRecs = best_model.recommendForAllUsers(10)\n",
        "userRecs_ks=userRecs.to_koalas()\n",
        "movies_ks=movies.to_koalas()"
      ],
      "execution_count": 70,
      "outputs": []
    },
    {
      "cell_type": "code",
      "metadata": {
        "id": "Vr5fHlCQd6X6"
      },
      "source": [
        "def movieRecommendation(inputId):\n",
        "  recs_list=[]\n",
        "  for recs in userRecs_ks.loc[str(inputId), 'recommendations']:\n",
        "    recs_list.append(str(recs[0]))\n",
        "  return (movies_ks[movies_ks['movieId'].isin(recs_list)])"
      ],
      "execution_count": 59,
      "outputs": []
    },
    {
      "cell_type": "code",
      "metadata": {
        "id": "KKFn4RkntjvI",
        "colab": {
          "base_uri": "https://localhost:8080/",
          "height": 376
        },
        "outputId": "a1300aa0-bd1b-4bf7-bebc-ee4a82300bd8"
      },
      "source": [
        "# Recommend movie to users with id 575 and 202\n",
        "print(\"Recommended movies for user with id '575' are as follows.\")\n",
        "movieRecommendation(575)"
      ],
      "execution_count": 71,
      "outputs": [
        {
          "output_type": "stream",
          "text": [
            "Recommended movies for user with id '575' are as follows.\n"
          ],
          "name": "stdout"
        },
        {
          "output_type": "execute_result",
          "data": {
            "text/html": [
              "<div>\n",
              "<style scoped>\n",
              "    .dataframe tbody tr th:only-of-type {\n",
              "        vertical-align: middle;\n",
              "    }\n",
              "\n",
              "    .dataframe tbody tr th {\n",
              "        vertical-align: top;\n",
              "    }\n",
              "\n",
              "    .dataframe thead th {\n",
              "        text-align: right;\n",
              "    }\n",
              "</style>\n",
              "<table border=\"1\" class=\"dataframe\">\n",
              "  <thead>\n",
              "    <tr style=\"text-align: right;\">\n",
              "      <th></th>\n",
              "      <th>movieId</th>\n",
              "      <th>title</th>\n",
              "      <th>release_date</th>\n",
              "      <th>genres</th>\n",
              "    </tr>\n",
              "  </thead>\n",
              "  <tbody>\n",
              "    <tr>\n",
              "      <th>1309</th>\n",
              "      <td>1755</td>\n",
              "      <td>Shooting Fish</td>\n",
              "      <td>1997</td>\n",
              "      <td>[comedy, romance]</td>\n",
              "    </tr>\n",
              "    <tr>\n",
              "      <th>3685</th>\n",
              "      <td>5075</td>\n",
              "      <td>Waydowntown</td>\n",
              "      <td>2000</td>\n",
              "      <td>[comedy]</td>\n",
              "    </tr>\n",
              "    <tr>\n",
              "      <th>4986</th>\n",
              "      <td>7669</td>\n",
              "      <td>Pride and Prejudice</td>\n",
              "      <td>1995</td>\n",
              "      <td>[drama, romance]</td>\n",
              "    </tr>\n",
              "    <tr>\n",
              "      <th>5867</th>\n",
              "      <td>32892</td>\n",
              "      <td>Ivan's Childhood (a.k.a. My Name is Ivan) (Iva...</td>\n",
              "      <td>1962</td>\n",
              "      <td>[drama, war]</td>\n",
              "    </tr>\n",
              "    <tr>\n",
              "      <th>6444</th>\n",
              "      <td>51931</td>\n",
              "      <td>Reign Over Me</td>\n",
              "      <td>2007</td>\n",
              "      <td>[drama]</td>\n",
              "    </tr>\n",
              "    <tr>\n",
              "      <th>7536</th>\n",
              "      <td>84847</td>\n",
              "      <td>Emma</td>\n",
              "      <td>2009</td>\n",
              "      <td>[comedy, drama, romance]</td>\n",
              "    </tr>\n",
              "    <tr>\n",
              "      <th>8110</th>\n",
              "      <td>100714</td>\n",
              "      <td>Before Midnight</td>\n",
              "      <td>2013</td>\n",
              "      <td>[drama, romance]</td>\n",
              "    </tr>\n",
              "    <tr>\n",
              "      <th>8473</th>\n",
              "      <td>112804</td>\n",
              "      <td>I Origins</td>\n",
              "      <td>2014</td>\n",
              "      <td>[drama, sci-fi]</td>\n",
              "    </tr>\n",
              "    <tr>\n",
              "      <th>9042</th>\n",
              "      <td>141718</td>\n",
              "      <td>Deathgasm</td>\n",
              "      <td>2015</td>\n",
              "      <td>[comedy, horror]</td>\n",
              "    </tr>\n",
              "    <tr>\n",
              "      <th>9264</th>\n",
              "      <td>156726</td>\n",
              "      <td>Hush</td>\n",
              "      <td>2016</td>\n",
              "      <td>[thriller]</td>\n",
              "    </tr>\n",
              "  </tbody>\n",
              "</table>\n",
              "</div>"
            ],
            "text/plain": [
              "     movieId                                                        title release_date                    genres\n",
              "1309    1755                                                Shooting Fish         1997         [comedy, romance]\n",
              "3685    5075                                                  Waydowntown         2000                  [comedy]\n",
              "4986    7669                                          Pride and Prejudice         1995          [drama, romance]\n",
              "5867   32892  Ivan's Childhood (a.k.a. My Name is Ivan) (Ivanovo detstvo)         1962              [drama, war]\n",
              "6444   51931                                                Reign Over Me         2007                   [drama]\n",
              "7536   84847                                                         Emma         2009  [comedy, drama, romance]\n",
              "8110  100714                                              Before Midnight         2013          [drama, romance]\n",
              "8473  112804                                                    I Origins         2014           [drama, sci-fi]\n",
              "9042  141718                                                    Deathgasm         2015          [comedy, horror]\n",
              "9264  156726                                                         Hush         2016                [thriller]"
            ]
          },
          "metadata": {
            "tags": []
          },
          "execution_count": 71
        }
      ]
    },
    {
      "cell_type": "code",
      "metadata": {
        "id": "GcN72vbdtnNG",
        "colab": {
          "base_uri": "https://localhost:8080/",
          "height": 376
        },
        "outputId": "33d6e1ae-031a-4164-fd2a-742227f8b3ae"
      },
      "source": [
        "print(\"Recommended movies for user with id '202' are as follows.\")\n",
        "movieRecommendation(202)"
      ],
      "execution_count": 72,
      "outputs": [
        {
          "output_type": "stream",
          "text": [
            "Recommended movies for user with id '202' are as follows.\n"
          ],
          "name": "stdout"
        },
        {
          "output_type": "execute_result",
          "data": {
            "text/html": [
              "<div>\n",
              "<style scoped>\n",
              "    .dataframe tbody tr th:only-of-type {\n",
              "        vertical-align: middle;\n",
              "    }\n",
              "\n",
              "    .dataframe tbody tr th {\n",
              "        vertical-align: top;\n",
              "    }\n",
              "\n",
              "    .dataframe thead th {\n",
              "        text-align: right;\n",
              "    }\n",
              "</style>\n",
              "<table border=\"1\" class=\"dataframe\">\n",
              "  <thead>\n",
              "    <tr style=\"text-align: right;\">\n",
              "      <th></th>\n",
              "      <th>movieId</th>\n",
              "      <th>title</th>\n",
              "      <th>release_date</th>\n",
              "      <th>genres</th>\n",
              "    </tr>\n",
              "  </thead>\n",
              "  <tbody>\n",
              "    <tr>\n",
              "      <th>107</th>\n",
              "      <td>123</td>\n",
              "      <td>Chungking Express (Chung Hing sam lam)</td>\n",
              "      <td>1994</td>\n",
              "      <td>[drama, mystery, romance]</td>\n",
              "    </tr>\n",
              "    <tr>\n",
              "      <th>2410</th>\n",
              "      <td>3200</td>\n",
              "      <td>Last Detail, The</td>\n",
              "      <td>1973</td>\n",
              "      <td>[comedy, drama]</td>\n",
              "    </tr>\n",
              "    <tr>\n",
              "      <th>2523</th>\n",
              "      <td>3379</td>\n",
              "      <td>On the Beach</td>\n",
              "      <td>1959</td>\n",
              "      <td>[drama]</td>\n",
              "    </tr>\n",
              "    <tr>\n",
              "      <th>2665</th>\n",
              "      <td>3567</td>\n",
              "      <td>Bossa Nova</td>\n",
              "      <td>2000</td>\n",
              "      <td>[comedy, drama, romance]</td>\n",
              "    </tr>\n",
              "    <tr>\n",
              "      <th>3320</th>\n",
              "      <td>4495</td>\n",
              "      <td>Crossing Delancey</td>\n",
              "      <td>1988</td>\n",
              "      <td>[comedy, romance]</td>\n",
              "    </tr>\n",
              "    <tr>\n",
              "      <th>3905</th>\n",
              "      <td>5485</td>\n",
              "      <td>Tadpole</td>\n",
              "      <td>2002</td>\n",
              "      <td>[comedy, drama, romance]</td>\n",
              "    </tr>\n",
              "    <tr>\n",
              "      <th>3908</th>\n",
              "      <td>5490</td>\n",
              "      <td>The Big Bus</td>\n",
              "      <td>1976</td>\n",
              "      <td>[action, comedy]</td>\n",
              "    </tr>\n",
              "    <tr>\n",
              "      <th>4251</th>\n",
              "      <td>6201</td>\n",
              "      <td>Lady Jane</td>\n",
              "      <td>1986</td>\n",
              "      <td>[drama, romance]</td>\n",
              "    </tr>\n",
              "    <tr>\n",
              "      <th>4358</th>\n",
              "      <td>6375</td>\n",
              "      <td>Gigantic (A Tale of Two Johns)</td>\n",
              "      <td>2002</td>\n",
              "      <td>[documentary]</td>\n",
              "    </tr>\n",
              "    <tr>\n",
              "      <th>7166</th>\n",
              "      <td>71899</td>\n",
              "      <td>Mary and Max</td>\n",
              "      <td>2009</td>\n",
              "      <td>[animation, comedy, drama]</td>\n",
              "    </tr>\n",
              "  </tbody>\n",
              "</table>\n",
              "</div>"
            ],
            "text/plain": [
              "     movieId                                   title release_date                      genres\n",
              "107      123  Chungking Express (Chung Hing sam lam)         1994   [drama, mystery, romance]\n",
              "2410    3200                        Last Detail, The         1973             [comedy, drama]\n",
              "2523    3379                            On the Beach         1959                     [drama]\n",
              "2665    3567                              Bossa Nova         2000    [comedy, drama, romance]\n",
              "3320    4495                       Crossing Delancey         1988           [comedy, romance]\n",
              "3905    5485                                 Tadpole         2002    [comedy, drama, romance]\n",
              "3908    5490                             The Big Bus         1976            [action, comedy]\n",
              "4251    6201                               Lady Jane         1986            [drama, romance]\n",
              "4358    6375          Gigantic (A Tale of Two Johns)         2002               [documentary]\n",
              "7166   71899                            Mary and Max         2009  [animation, comedy, drama]"
            ]
          },
          "metadata": {
            "tags": []
          },
          "execution_count": 72
        }
      ]
    },
    {
      "cell_type": "markdown",
      "metadata": {
        "id": "vDyxb75StshT"
      },
      "source": [
        "### Find similar movies for a given movie\n",
        "\n",
        "\n",
        "\n",
        "\n",
        "\n",
        "\n"
      ]
    },
    {
      "cell_type": "code",
      "metadata": {
        "id": "v-n0ZPsnYJRy"
      },
      "source": [
        "itemFactors=best_model.itemFactors.to_koalas() "
      ],
      "execution_count": 65,
      "outputs": []
    },
    {
      "cell_type": "code",
      "metadata": {
        "id": "yzmy1TZkt53B"
      },
      "source": [
        "def similarMovies(inputId, matrix='cosine_similarity'):\n",
        "  try:\n",
        "    movieFeature=itemFactors.loc[itemFactors.id==str(inputId),'features'].to_numpy()[0]\n",
        "  except:\n",
        "    return 'There is no movie with id ' + str(inputId)\n",
        "  \n",
        "  if matrix=='cosine_similarity':\n",
        "    similarMovie=pd.DataFrame(columns=('movieId','cosine_similarity'))\n",
        "    for id,feature in itemFactors.to_numpy():\n",
        "      cs=np.dot(movieFeature,feature)/(np.linalg.norm(movieFeature) * np.linalg.norm(feature))\n",
        "      similarMovie=similarMovie.append({'movieId':str(id), 'cosine_similarity':cs}, ignore_index=True)\n",
        "    similarMovie_cs=similarMovie.sort_values(by=['cosine_similarity'],ascending = False)[1:11]\n",
        "    joint=similarMovie_cs.merge(movies_ks.to_pandas(), left_on='movieId', right_on = 'movieId', how = 'inner')\n",
        "    \n",
        "  if matrix=='euclidean_distance':\n",
        "    similarMovie=pd.DataFrame(columns=('movieId','euclidean_distance'))\n",
        "    for id,feature in itemFactors.to_numpy():\n",
        "      ed=np.linalg.norm(np.array(movieFeature)-np.array(feature))\n",
        "      similarMovie=similarMovie.append({'movieId':str(id), 'euclidean_distance':ed}, ignore_index=True)\n",
        "    similarMovie_ed=similarMovie.sort_values(by=['euclidean_distance'])[1:11]\n",
        "    joint=similarMovie_ed.merge(movies_ks.to_pandas(), left_on='movieId', right_on = 'movieId', how = 'inner')\n",
        "  return joint[['movieId','title','genres']]"
      ],
      "execution_count": 66,
      "outputs": []
    },
    {
      "cell_type": "code",
      "metadata": {
        "colab": {
          "base_uri": "https://localhost:8080/",
          "height": 359
        },
        "id": "wa-GfTbYt_Jd",
        "outputId": "b415cf40-dd93-4002-a831-434edb7b03de"
      },
      "source": [
        "# Get similar movies for movie 353\n",
        "similarMovies(353)"
      ],
      "execution_count": 73,
      "outputs": [
        {
          "output_type": "execute_result",
          "data": {
            "text/html": [
              "<div>\n",
              "<style scoped>\n",
              "    .dataframe tbody tr th:only-of-type {\n",
              "        vertical-align: middle;\n",
              "    }\n",
              "\n",
              "    .dataframe tbody tr th {\n",
              "        vertical-align: top;\n",
              "    }\n",
              "\n",
              "    .dataframe thead th {\n",
              "        text-align: right;\n",
              "    }\n",
              "</style>\n",
              "<table border=\"1\" class=\"dataframe\">\n",
              "  <thead>\n",
              "    <tr style=\"text-align: right;\">\n",
              "      <th></th>\n",
              "      <th>movieId</th>\n",
              "      <th>title</th>\n",
              "      <th>genres</th>\n",
              "    </tr>\n",
              "  </thead>\n",
              "  <tbody>\n",
              "    <tr>\n",
              "      <th>0</th>\n",
              "      <td>160567</td>\n",
              "      <td>Mike &amp; Dave Need Wedding Dates</td>\n",
              "      <td>[comedy]</td>\n",
              "    </tr>\n",
              "    <tr>\n",
              "      <th>1</th>\n",
              "      <td>141544</td>\n",
              "      <td>Turbo Kid</td>\n",
              "      <td>[action, adventure, sci-fi]</td>\n",
              "    </tr>\n",
              "    <tr>\n",
              "      <th>2</th>\n",
              "      <td>167746</td>\n",
              "      <td>The Lego Batman Movie</td>\n",
              "      <td>[action, animation, comedy]</td>\n",
              "    </tr>\n",
              "    <tr>\n",
              "      <th>3</th>\n",
              "      <td>127198</td>\n",
              "      <td>Dope</td>\n",
              "      <td>[comedy, drama]</td>\n",
              "    </tr>\n",
              "    <tr>\n",
              "      <th>4</th>\n",
              "      <td>2288</td>\n",
              "      <td>Thing, The</td>\n",
              "      <td>[action, horror, sci-fi, thriller]</td>\n",
              "    </tr>\n",
              "    <tr>\n",
              "      <th>5</th>\n",
              "      <td>27006</td>\n",
              "      <td>RKO 281</td>\n",
              "      <td>[drama]</td>\n",
              "    </tr>\n",
              "    <tr>\n",
              "      <th>6</th>\n",
              "      <td>27369</td>\n",
              "      <td>Daria: Is It Fall Yet?</td>\n",
              "      <td>[animation, comedy]</td>\n",
              "    </tr>\n",
              "    <tr>\n",
              "      <th>7</th>\n",
              "      <td>66544</td>\n",
              "      <td>Nuremberg</td>\n",
              "      <td>[drama, war]</td>\n",
              "    </tr>\n",
              "    <tr>\n",
              "      <th>8</th>\n",
              "      <td>79006</td>\n",
              "      <td>Empire of Dreams: The Story of the 'Star Wars'...</td>\n",
              "      <td>[documentary]</td>\n",
              "    </tr>\n",
              "    <tr>\n",
              "      <th>9</th>\n",
              "      <td>76060</td>\n",
              "      <td>Slammin' Salmon, The</td>\n",
              "      <td>[comedy]</td>\n",
              "    </tr>\n",
              "  </tbody>\n",
              "</table>\n",
              "</div>"
            ],
            "text/plain": [
              "  movieId  ...                              genres\n",
              "0  160567  ...                            [comedy]\n",
              "1  141544  ...         [action, adventure, sci-fi]\n",
              "2  167746  ...         [action, animation, comedy]\n",
              "3  127198  ...                     [comedy, drama]\n",
              "4    2288  ...  [action, horror, sci-fi, thriller]\n",
              "5   27006  ...                             [drama]\n",
              "6   27369  ...                 [animation, comedy]\n",
              "7   66544  ...                        [drama, war]\n",
              "8   79006  ...                       [documentary]\n",
              "9   76060  ...                            [comedy]\n",
              "\n",
              "[10 rows x 3 columns]"
            ]
          },
          "metadata": {
            "tags": []
          },
          "execution_count": 73
        }
      ]
    },
    {
      "cell_type": "code",
      "metadata": {
        "id": "UFiMITcWuBW0",
        "colab": {
          "base_uri": "https://localhost:8080/",
          "height": 376
        },
        "outputId": "13e9decd-75be-41ed-b9dc-d965058d2e97"
      },
      "source": [
        "print('Similar movies based on cosine similarity matrix are as follows.')\n",
        "similarMovies(488, 'cosine_similarity')"
      ],
      "execution_count": 74,
      "outputs": [
        {
          "output_type": "stream",
          "text": [
            "Similar movies based on cosine similarity matrix are as follows.\n"
          ],
          "name": "stdout"
        },
        {
          "output_type": "execute_result",
          "data": {
            "text/html": [
              "<div>\n",
              "<style scoped>\n",
              "    .dataframe tbody tr th:only-of-type {\n",
              "        vertical-align: middle;\n",
              "    }\n",
              "\n",
              "    .dataframe tbody tr th {\n",
              "        vertical-align: top;\n",
              "    }\n",
              "\n",
              "    .dataframe thead th {\n",
              "        text-align: right;\n",
              "    }\n",
              "</style>\n",
              "<table border=\"1\" class=\"dataframe\">\n",
              "  <thead>\n",
              "    <tr style=\"text-align: right;\">\n",
              "      <th></th>\n",
              "      <th>movieId</th>\n",
              "      <th>title</th>\n",
              "      <th>genres</th>\n",
              "    </tr>\n",
              "  </thead>\n",
              "  <tbody>\n",
              "    <tr>\n",
              "      <th>0</th>\n",
              "      <td>8481</td>\n",
              "      <td>Northwest Passage</td>\n",
              "      <td>[action, adventure, drama, romance, thriller, ...</td>\n",
              "    </tr>\n",
              "    <tr>\n",
              "      <th>1</th>\n",
              "      <td>8711</td>\n",
              "      <td>Mr. Blandings Builds His Dream House</td>\n",
              "      <td>[comedy]</td>\n",
              "    </tr>\n",
              "    <tr>\n",
              "      <th>2</th>\n",
              "      <td>8771</td>\n",
              "      <td>Sherlock Holmes: Terror by Night</td>\n",
              "      <td>[crime, mystery, thriller]</td>\n",
              "    </tr>\n",
              "    <tr>\n",
              "      <th>3</th>\n",
              "      <td>8955</td>\n",
              "      <td>Undertow</td>\n",
              "      <td>[crime, drama, thriller]</td>\n",
              "    </tr>\n",
              "    <tr>\n",
              "      <th>4</th>\n",
              "      <td>4521</td>\n",
              "      <td>Little Nikita</td>\n",
              "      <td>[drama]</td>\n",
              "    </tr>\n",
              "    <tr>\n",
              "      <th>5</th>\n",
              "      <td>8057</td>\n",
              "      <td>Sweet Bird of Youth</td>\n",
              "      <td>[drama]</td>\n",
              "    </tr>\n",
              "    <tr>\n",
              "      <th>6</th>\n",
              "      <td>1941</td>\n",
              "      <td>Hamlet</td>\n",
              "      <td>[drama]</td>\n",
              "    </tr>\n",
              "    <tr>\n",
              "      <th>7</th>\n",
              "      <td>8987</td>\n",
              "      <td>Bush's Brain</td>\n",
              "      <td>[documentary]</td>\n",
              "    </tr>\n",
              "    <tr>\n",
              "      <th>8</th>\n",
              "      <td>5440</td>\n",
              "      <td>She Wore a Yellow Ribbon</td>\n",
              "      <td>[western]</td>\n",
              "    </tr>\n",
              "    <tr>\n",
              "      <th>9</th>\n",
              "      <td>1933</td>\n",
              "      <td>Life of Emile Zola, The</td>\n",
              "      <td>[drama]</td>\n",
              "    </tr>\n",
              "  </tbody>\n",
              "</table>\n",
              "</div>"
            ],
            "text/plain": [
              "  movieId  ...                                             genres\n",
              "0    8481  ...  [action, adventure, drama, romance, thriller, ...\n",
              "1    8711  ...                                           [comedy]\n",
              "2    8771  ...                         [crime, mystery, thriller]\n",
              "3    8955  ...                           [crime, drama, thriller]\n",
              "4    4521  ...                                            [drama]\n",
              "5    8057  ...                                            [drama]\n",
              "6    1941  ...                                            [drama]\n",
              "7    8987  ...                                      [documentary]\n",
              "8    5440  ...                                          [western]\n",
              "9    1933  ...                                            [drama]\n",
              "\n",
              "[10 rows x 3 columns]"
            ]
          },
          "metadata": {
            "tags": []
          },
          "execution_count": 74
        }
      ]
    },
    {
      "cell_type": "code",
      "metadata": {
        "id": "kkR3l7BzuDhn",
        "colab": {
          "base_uri": "https://localhost:8080/",
          "height": 376
        },
        "outputId": "2d470b1b-2cd4-4aa1-864a-1b5192c4ade6"
      },
      "source": [
        "print('Similar movies based on euclidean distance matrix are as follows.')\n",
        "similarMovies(488, 'euclidean_distance')"
      ],
      "execution_count": 75,
      "outputs": [
        {
          "output_type": "stream",
          "text": [
            "Similar movies based on euclidean distance matrix are as follows.\n"
          ],
          "name": "stdout"
        },
        {
          "output_type": "execute_result",
          "data": {
            "text/html": [
              "<div>\n",
              "<style scoped>\n",
              "    .dataframe tbody tr th:only-of-type {\n",
              "        vertical-align: middle;\n",
              "    }\n",
              "\n",
              "    .dataframe tbody tr th {\n",
              "        vertical-align: top;\n",
              "    }\n",
              "\n",
              "    .dataframe thead th {\n",
              "        text-align: right;\n",
              "    }\n",
              "</style>\n",
              "<table border=\"1\" class=\"dataframe\">\n",
              "  <thead>\n",
              "    <tr style=\"text-align: right;\">\n",
              "      <th></th>\n",
              "      <th>movieId</th>\n",
              "      <th>title</th>\n",
              "      <th>genres</th>\n",
              "    </tr>\n",
              "  </thead>\n",
              "  <tbody>\n",
              "    <tr>\n",
              "      <th>0</th>\n",
              "      <td>4055</td>\n",
              "      <td>Panic</td>\n",
              "      <td>[drama]</td>\n",
              "    </tr>\n",
              "    <tr>\n",
              "      <th>1</th>\n",
              "      <td>6336</td>\n",
              "      <td>Marooned in Iraq (Gomgashtei dar Aragh)</td>\n",
              "      <td>[drama]</td>\n",
              "    </tr>\n",
              "    <tr>\n",
              "      <th>2</th>\n",
              "      <td>8987</td>\n",
              "      <td>Bush's Brain</td>\n",
              "      <td>[documentary]</td>\n",
              "    </tr>\n",
              "    <tr>\n",
              "      <th>3</th>\n",
              "      <td>8712</td>\n",
              "      <td>My Favorite Wife</td>\n",
              "      <td>[comedy, romance]</td>\n",
              "    </tr>\n",
              "    <tr>\n",
              "      <th>4</th>\n",
              "      <td>7167</td>\n",
              "      <td>Japanese Story</td>\n",
              "      <td>[drama]</td>\n",
              "    </tr>\n",
              "    <tr>\n",
              "      <th>5</th>\n",
              "      <td>6225</td>\n",
              "      <td>King of Kings</td>\n",
              "      <td>[drama]</td>\n",
              "    </tr>\n",
              "    <tr>\n",
              "      <th>6</th>\n",
              "      <td>2611</td>\n",
              "      <td>Winslow Boy, The</td>\n",
              "      <td>[drama]</td>\n",
              "    </tr>\n",
              "    <tr>\n",
              "      <th>7</th>\n",
              "      <td>2652</td>\n",
              "      <td>Curse of Frankenstein, The</td>\n",
              "      <td>[horror]</td>\n",
              "    </tr>\n",
              "    <tr>\n",
              "      <th>8</th>\n",
              "      <td>8575</td>\n",
              "      <td>Happenstance (Battement d'ailes du papillon, Le)</td>\n",
              "      <td>[comedy, drama]</td>\n",
              "    </tr>\n",
              "    <tr>\n",
              "      <th>9</th>\n",
              "      <td>7083</td>\n",
              "      <td>Sweet Dreams</td>\n",
              "      <td>[drama]</td>\n",
              "    </tr>\n",
              "  </tbody>\n",
              "</table>\n",
              "</div>"
            ],
            "text/plain": [
              "  movieId                                             title             genres\n",
              "0    4055                                             Panic            [drama]\n",
              "1    6336           Marooned in Iraq (Gomgashtei dar Aragh)            [drama]\n",
              "2    8987                                      Bush's Brain      [documentary]\n",
              "3    8712                                  My Favorite Wife  [comedy, romance]\n",
              "4    7167                                    Japanese Story            [drama]\n",
              "5    6225                                     King of Kings            [drama]\n",
              "6    2611                                  Winslow Boy, The            [drama]\n",
              "7    2652                        Curse of Frankenstein, The           [horror]\n",
              "8    8575  Happenstance (Battement d'ailes du papillon, Le)    [comedy, drama]\n",
              "9    7083                                      Sweet Dreams            [drama]"
            ]
          },
          "metadata": {
            "tags": []
          },
          "execution_count": 75
        }
      ]
    },
    {
      "cell_type": "markdown",
      "metadata": {
        "id": "z35Tl_JXNtSL"
      },
      "source": [
        "## **Summary**\n",
        "**Step 1: Data ETL** \\\\\n",
        "I firsly load the data, generate the Spark dataframes, and check the basic information of the dataset. \\\\\n",
        "**Step 2: Online Analytical Processing** \\\\\n",
        "This part utilizes Spark SQL to perform analysis from multiple angle and generate intuitive insights. \\\\\n",
        "**Step 3: Exploratory Data Analysis** \\\\\n",
        "I create a dataframe UDF to transform the data into a more readable form. Then I look at the distribution of ratings and movies using seaborn and matplotlib. \\\\\n",
        "**Step 4: Model Selection and Evaluation** \\\\\n",
        "Using Spark MLlib, I train a a collaborative filtering recommendation model from the ratings data. I tune the hyperparameters using 5-fold cross-validation, apply the optimal parameter set to the model, and evaluate the performance of final model by measuring the root mean square error of rating prediction on the test set. \\\\\n",
        "**Step 5: Model Application** \\\\\n",
        "I write a function to recommend 10 movies for any particular user. \\\\\n",
        "I also apply the prediction results to find similar movies for a given movie. I use two matrix to evaluate the similarity between movies: cosine similarity and euclidean distance, which can be used separately depending on situations."
      ]
    }
  ]
}